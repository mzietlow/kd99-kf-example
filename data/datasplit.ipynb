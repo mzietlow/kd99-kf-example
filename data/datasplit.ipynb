{
 "cells": [
  {
   "cell_type": "code",
   "execution_count": 1,
   "metadata": {
    "collapsed": true
   },
   "outputs": [],
   "source": [
    "with open(\"./kddcup.data.corrected\") as file:\n",
    "    content = file.read()\n",
    "lines = content.split(\"\\n\")"
   ]
  },
  {
   "cell_type": "code",
   "execution_count": 2,
   "outputs": [
    {
     "data": {
      "text/plain": "4898432"
     },
     "execution_count": 2,
     "metadata": {},
     "output_type": "execute_result"
    }
   ],
   "source": [
    "len(lines)"
   ],
   "metadata": {
    "collapsed": false,
    "pycharm": {
     "name": "#%%\n"
    }
   }
  },
  {
   "cell_type": "code",
   "execution_count": 3,
   "outputs": [],
   "source": [
    "import math\n",
    "a_third_of_data = math.floor(len(lines)*(1/3))\n",
    "train = lines[:a_third_of_data]\n",
    "test = lines[a_third_of_data:2*a_third_of_data]\n",
    "validate = lines[2*a_third_of_data:]\n",
    "train_small = lines[:100000]"
   ],
   "metadata": {
    "collapsed": false,
    "pycharm": {
     "name": "#%%\n"
    }
   }
  },
  {
   "cell_type": "code",
   "execution_count": 4,
   "outputs": [],
   "source": [
    "with open(\"kddcup.train.small\", \"w\", newline=\"\") as train_small_output:\n",
    "    for line in train_small[:-1]:\n",
    "        train_small_output.write(line+\"\\n\")\n",
    "    train_small_output.write(train[-1])"
   ],
   "metadata": {
    "collapsed": false,
    "pycharm": {
     "name": "#%%\n"
    }
   }
  },
  {
   "cell_type": "code",
   "execution_count": 9,
   "outputs": [],
   "source": [
    "with open(\"kddcup.train\", \"w\", newline=\"\") as train_output:\n",
    "    for line in train[:-1]:\n",
    "        train_output.write(line+\"\\n\")\n",
    "    train_output.write(train[-1])\n",
    "with open(\"kddcup.test\", \"w\", newline=\"\") as test_output:\n",
    "    for line in test[:-1]:\n",
    "        test_output.write(line+\"\\n\")\n",
    "    test_output.write(test[-1])\n",
    "with open(\"kddcup.validate\", \"w\", newline=\"\") as validate_output:\n",
    "    for line in validate[:-1]:\n",
    "        validate_output.write(line+\"\\n\")\n",
    "    validate_output.write(validate[-1])"
   ],
   "metadata": {
    "collapsed": false,
    "pycharm": {
     "name": "#%%\n"
    }
   }
  },
  {
   "cell_type": "code",
   "execution_count": 10,
   "outputs": [],
   "source": [
    "with open(\"kddcup.train\") as file:\n",
    "    train_contents = file.read()\n",
    "    train_content_lines = train_contents.split(\"\\n\")\n"
   ],
   "metadata": {
    "collapsed": false,
    "pycharm": {
     "name": "#%%\n"
    }
   }
  }
 ],
 "metadata": {
  "kernelspec": {
   "display_name": "Python 3",
   "language": "python",
   "name": "python3"
  },
  "language_info": {
   "codemirror_mode": {
    "name": "ipython",
    "version": 2
   },
   "file_extension": ".py",
   "mimetype": "text/x-python",
   "name": "python",
   "nbconvert_exporter": "python",
   "pygments_lexer": "ipython2",
   "version": "2.7.6"
  }
 },
 "nbformat": 4,
 "nbformat_minor": 0
}